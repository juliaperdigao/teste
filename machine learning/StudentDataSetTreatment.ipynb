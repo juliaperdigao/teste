{
 "cells": [
  {
   "cell_type": "code",
   "execution_count": 1,
   "metadata": {},
   "outputs": [],
   "source": [
    "# Importando a biblioteca pandas\n",
    "import pandas as pd"
   ]
  },
  {
   "cell_type": "code",
   "execution_count": 2,
   "metadata": {},
   "outputs": [],
   "source": [
    "# Carregando o arquivo csv\n",
    "df = pd.read_csv(\"student-mat.csv\",sep = ';')"
   ]
  },
  {
   "cell_type": "code",
   "execution_count": 3,
   "metadata": {},
   "outputs": [
    {
     "data": {
      "text/html": [
       "<div>\n",
       "<style scoped>\n",
       "    .dataframe tbody tr th:only-of-type {\n",
       "        vertical-align: middle;\n",
       "    }\n",
       "\n",
       "    .dataframe tbody tr th {\n",
       "        vertical-align: top;\n",
       "    }\n",
       "\n",
       "    .dataframe thead th {\n",
       "        text-align: right;\n",
       "    }\n",
       "</style>\n",
       "<table border=\"1\" class=\"dataframe\">\n",
       "  <thead>\n",
       "    <tr style=\"text-align: right;\">\n",
       "      <th></th>\n",
       "      <th>school</th>\n",
       "      <th>sex</th>\n",
       "      <th>age</th>\n",
       "      <th>address</th>\n",
       "      <th>famsize</th>\n",
       "      <th>Pstatus</th>\n",
       "      <th>Medu</th>\n",
       "      <th>Fedu</th>\n",
       "      <th>Mjob</th>\n",
       "      <th>Fjob</th>\n",
       "      <th>...</th>\n",
       "      <th>famrel</th>\n",
       "      <th>freetime</th>\n",
       "      <th>goout</th>\n",
       "      <th>Dalc</th>\n",
       "      <th>Walc</th>\n",
       "      <th>health</th>\n",
       "      <th>absences</th>\n",
       "      <th>G1</th>\n",
       "      <th>G2</th>\n",
       "      <th>G3</th>\n",
       "    </tr>\n",
       "  </thead>\n",
       "  <tbody>\n",
       "    <tr>\n",
       "      <th>0</th>\n",
       "      <td>GP</td>\n",
       "      <td>F</td>\n",
       "      <td>18</td>\n",
       "      <td>U</td>\n",
       "      <td>GT3</td>\n",
       "      <td>A</td>\n",
       "      <td>4</td>\n",
       "      <td>4</td>\n",
       "      <td>at_home</td>\n",
       "      <td>teacher</td>\n",
       "      <td>...</td>\n",
       "      <td>4</td>\n",
       "      <td>3</td>\n",
       "      <td>4</td>\n",
       "      <td>1</td>\n",
       "      <td>1</td>\n",
       "      <td>3</td>\n",
       "      <td>6</td>\n",
       "      <td>5</td>\n",
       "      <td>6</td>\n",
       "      <td>6</td>\n",
       "    </tr>\n",
       "    <tr>\n",
       "      <th>1</th>\n",
       "      <td>GP</td>\n",
       "      <td>F</td>\n",
       "      <td>17</td>\n",
       "      <td>U</td>\n",
       "      <td>GT3</td>\n",
       "      <td>T</td>\n",
       "      <td>1</td>\n",
       "      <td>1</td>\n",
       "      <td>at_home</td>\n",
       "      <td>other</td>\n",
       "      <td>...</td>\n",
       "      <td>5</td>\n",
       "      <td>3</td>\n",
       "      <td>3</td>\n",
       "      <td>1</td>\n",
       "      <td>1</td>\n",
       "      <td>3</td>\n",
       "      <td>4</td>\n",
       "      <td>5</td>\n",
       "      <td>5</td>\n",
       "      <td>6</td>\n",
       "    </tr>\n",
       "    <tr>\n",
       "      <th>2</th>\n",
       "      <td>GP</td>\n",
       "      <td>F</td>\n",
       "      <td>15</td>\n",
       "      <td>U</td>\n",
       "      <td>LE3</td>\n",
       "      <td>T</td>\n",
       "      <td>1</td>\n",
       "      <td>1</td>\n",
       "      <td>at_home</td>\n",
       "      <td>other</td>\n",
       "      <td>...</td>\n",
       "      <td>4</td>\n",
       "      <td>3</td>\n",
       "      <td>2</td>\n",
       "      <td>2</td>\n",
       "      <td>3</td>\n",
       "      <td>3</td>\n",
       "      <td>10</td>\n",
       "      <td>7</td>\n",
       "      <td>8</td>\n",
       "      <td>10</td>\n",
       "    </tr>\n",
       "    <tr>\n",
       "      <th>3</th>\n",
       "      <td>GP</td>\n",
       "      <td>F</td>\n",
       "      <td>15</td>\n",
       "      <td>U</td>\n",
       "      <td>GT3</td>\n",
       "      <td>T</td>\n",
       "      <td>4</td>\n",
       "      <td>2</td>\n",
       "      <td>health</td>\n",
       "      <td>services</td>\n",
       "      <td>...</td>\n",
       "      <td>3</td>\n",
       "      <td>2</td>\n",
       "      <td>2</td>\n",
       "      <td>1</td>\n",
       "      <td>1</td>\n",
       "      <td>5</td>\n",
       "      <td>2</td>\n",
       "      <td>15</td>\n",
       "      <td>14</td>\n",
       "      <td>15</td>\n",
       "    </tr>\n",
       "    <tr>\n",
       "      <th>4</th>\n",
       "      <td>GP</td>\n",
       "      <td>F</td>\n",
       "      <td>16</td>\n",
       "      <td>U</td>\n",
       "      <td>GT3</td>\n",
       "      <td>T</td>\n",
       "      <td>3</td>\n",
       "      <td>3</td>\n",
       "      <td>other</td>\n",
       "      <td>other</td>\n",
       "      <td>...</td>\n",
       "      <td>4</td>\n",
       "      <td>3</td>\n",
       "      <td>2</td>\n",
       "      <td>1</td>\n",
       "      <td>2</td>\n",
       "      <td>5</td>\n",
       "      <td>4</td>\n",
       "      <td>6</td>\n",
       "      <td>10</td>\n",
       "      <td>10</td>\n",
       "    </tr>\n",
       "  </tbody>\n",
       "</table>\n",
       "<p>5 rows × 33 columns</p>\n",
       "</div>"
      ],
      "text/plain": [
       "  school sex  age address famsize Pstatus  Medu  Fedu     Mjob      Fjob  ...  \\\n",
       "0     GP   F   18       U     GT3       A     4     4  at_home   teacher  ...   \n",
       "1     GP   F   17       U     GT3       T     1     1  at_home     other  ...   \n",
       "2     GP   F   15       U     LE3       T     1     1  at_home     other  ...   \n",
       "3     GP   F   15       U     GT3       T     4     2   health  services  ...   \n",
       "4     GP   F   16       U     GT3       T     3     3    other     other  ...   \n",
       "\n",
       "  famrel freetime  goout  Dalc  Walc health absences  G1  G2  G3  \n",
       "0      4        3      4     1     1      3        6   5   6   6  \n",
       "1      5        3      3     1     1      3        4   5   5   6  \n",
       "2      4        3      2     2     3      3       10   7   8  10  \n",
       "3      3        2      2     1     1      5        2  15  14  15  \n",
       "4      4        3      2     1     2      5        4   6  10  10  \n",
       "\n",
       "[5 rows x 33 columns]"
      ]
     },
     "execution_count": 3,
     "metadata": {},
     "output_type": "execute_result"
    }
   ],
   "source": [
    "# Vizualizando o DataFrame\n",
    "df.head()"
   ]
  },
  {
   "cell_type": "code",
   "execution_count": 4,
   "metadata": {},
   "outputs": [
    {
     "data": {
      "text/plain": [
       "(395, 33)"
      ]
     },
     "execution_count": 4,
     "metadata": {},
     "output_type": "execute_result"
    }
   ],
   "source": [
    "# Número de linhas e de colunas do DataFrame\n",
    "df.shape"
   ]
  },
  {
   "cell_type": "code",
   "execution_count": 5,
   "metadata": {},
   "outputs": [
    {
     "name": "stdout",
     "output_type": "stream",
     "text": [
      "<class 'pandas.core.frame.DataFrame'>\n",
      "RangeIndex: 395 entries, 0 to 394\n",
      "Data columns (total 33 columns):\n",
      "school        395 non-null object\n",
      "sex           395 non-null object\n",
      "age           395 non-null int64\n",
      "address       395 non-null object\n",
      "famsize       395 non-null object\n",
      "Pstatus       395 non-null object\n",
      "Medu          395 non-null int64\n",
      "Fedu          395 non-null int64\n",
      "Mjob          395 non-null object\n",
      "Fjob          395 non-null object\n",
      "reason        395 non-null object\n",
      "guardian      395 non-null object\n",
      "traveltime    395 non-null int64\n",
      "studytime     395 non-null int64\n",
      "failures      395 non-null int64\n",
      "schoolsup     395 non-null object\n",
      "famsup        395 non-null object\n",
      "paid          395 non-null object\n",
      "activities    395 non-null object\n",
      "nursery       395 non-null object\n",
      "higher        395 non-null object\n",
      "internet      395 non-null object\n",
      "romantic      395 non-null object\n",
      "famrel        395 non-null int64\n",
      "freetime      395 non-null int64\n",
      "goout         395 non-null int64\n",
      "Dalc          395 non-null int64\n",
      "Walc          395 non-null int64\n",
      "health        395 non-null int64\n",
      "absences      395 non-null int64\n",
      "G1            395 non-null int64\n",
      "G2            395 non-null int64\n",
      "G3            395 non-null int64\n",
      "dtypes: int64(16), object(17)\n",
      "memory usage: 101.9+ KB\n"
     ]
    }
   ],
   "source": [
    "# A função info() serve para identificar o tipo e o número de itens não-nulos de cada coluna do DataFrame\n",
    "df.info()"
   ]
  },
  {
   "cell_type": "code",
   "execution_count": 6,
   "metadata": {},
   "outputs": [
    {
     "data": {
      "text/plain": [
       "count     395\n",
       "unique      2\n",
       "top        GP\n",
       "freq      349\n",
       "Name: school, dtype: object"
      ]
     },
     "execution_count": 6,
     "metadata": {},
     "output_type": "execute_result"
    }
   ],
   "source": [
    "# Descrição estatística da coluna 'school':\n",
    "# RESULTADOS: \n",
    "# Há apenas um aluno que não estuda na escola GP\n",
    "# Todos os alunos estão matriculados em uma escola (ausência de nulos)\n",
    "# O tipo da coluna é object\n",
    "\n",
    "df['school'].describe()"
   ]
  },
  {
   "cell_type": "code",
   "execution_count": 7,
   "metadata": {},
   "outputs": [
    {
     "data": {
      "text/plain": [
       "count     395\n",
       "unique      2\n",
       "top         F\n",
       "freq      208\n",
       "Name: sex, dtype: object"
      ]
     },
     "execution_count": 7,
     "metadata": {},
     "output_type": "execute_result"
    }
   ],
   "source": [
    "# Descrição estatística da coluna 'sex':\n",
    "# RESULTADOS: \n",
    "# Há mais meninas que meninos na amostra de dados (208x187)\n",
    "# Todos os alunos têm seu sexo informado (ausência de nulos)\n",
    "# O tipo da coluna é object\n",
    "\n",
    "df['sex'].describe()"
   ]
  },
  {
   "cell_type": "code",
   "execution_count": 8,
   "metadata": {},
   "outputs": [
    {
     "data": {
      "text/plain": [
       "count    395.000000\n",
       "mean      16.696203\n",
       "std        1.276043\n",
       "min       15.000000\n",
       "25%       16.000000\n",
       "50%       17.000000\n",
       "75%       18.000000\n",
       "max       22.000000\n",
       "Name: age, dtype: float64"
      ]
     },
     "execution_count": 8,
     "metadata": {},
     "output_type": "execute_result"
    }
   ],
   "source": [
    "# Descrição estatística da coluna 'age':\n",
    "# RESULTADOS: \n",
    "# A média de idade dos alunos da amostra de dados é de 16.696203\n",
    "# O desvio padrão é de 1.276043\n",
    "# O aluno mais novo tem 15 anos e o mais velho tem 22\n",
    "# Todos os alunos têm sua idade informada (ausência de nulos)\n",
    "# O tipo da coluna é float64\n",
    "\n",
    "df['age'].describe()"
   ]
  },
  {
   "cell_type": "code",
   "execution_count": 9,
   "metadata": {},
   "outputs": [
    {
     "data": {
      "text/plain": [
       "count     395\n",
       "unique      2\n",
       "top         U\n",
       "freq      307\n",
       "Name: address, dtype: object"
      ]
     },
     "execution_count": 9,
     "metadata": {},
     "output_type": "execute_result"
    }
   ],
   "source": [
    "# Descrição estatística da coluna 'address':\n",
    "# RESULTADOS: \n",
    "# Há mais alunos que residem no meio urbano que no meio rural(307x88)\n",
    "# Todos os alunos informaram sobre seu endereço (ausência de nulos)\n",
    "# O tipo da coluna é object\n",
    "\n",
    "df['address'].describe()"
   ]
  },
  {
   "cell_type": "code",
   "execution_count": 10,
   "metadata": {},
   "outputs": [
    {
     "data": {
      "text/plain": [
       "count     395\n",
       "unique      2\n",
       "top       GT3\n",
       "freq      281\n",
       "Name: famsize, dtype: object"
      ]
     },
     "execution_count": 10,
     "metadata": {},
     "output_type": "execute_result"
    }
   ],
   "source": [
    "# Descrição estatística da coluna 'famsize':\n",
    "# RESULTADOS: \n",
    "# Há mais alunos que residem no meio urbano que no meio rural(307x88)\n",
    "# Todos os alunos informaram sobre seu endereço (ausência de nulos)\n",
    "# O tipo da coluna é object\n",
    "\n",
    "df['famsize'].describe()"
   ]
  },
  {
   "cell_type": "code",
   "execution_count": 11,
   "metadata": {},
   "outputs": [
    {
     "data": {
      "text/plain": [
       "count     395\n",
       "unique      2\n",
       "top         T\n",
       "freq      354\n",
       "Name: Pstatus, dtype: object"
      ]
     },
     "execution_count": 11,
     "metadata": {},
     "output_type": "execute_result"
    }
   ],
   "source": [
    "# Descrição estatística da coluna 'Pstatus':\n",
    "# RESULTADOS: \n",
    "# Há mais alunos cujos pais vivem juntos (354x41)\n",
    "# (ausência de nulos)\n",
    "# O tipo da coluna é object\n",
    "\n",
    "df['Pstatus'].describe()"
   ]
  },
  {
   "cell_type": "code",
   "execution_count": 12,
   "metadata": {},
   "outputs": [
    {
     "data": {
      "text/plain": [
       "count    395.000000\n",
       "mean       2.749367\n",
       "std        1.094735\n",
       "min        0.000000\n",
       "25%        2.000000\n",
       "50%        3.000000\n",
       "75%        4.000000\n",
       "max        4.000000\n",
       "Name: Medu, dtype: float64"
      ]
     },
     "execution_count": 12,
     "metadata": {},
     "output_type": "execute_result"
    }
   ],
   "source": [
    "# Descrição estatística da coluna 'Medu':\n",
    "# RESULTADOS: \n",
    "# A média é de 2.749367\n",
    "# O desvio padrão é de 1.094735\n",
    "# (ausência de nulos)\n",
    "# O tipo da coluna é float64\n",
    "\n",
    "df['Medu'].describe()"
   ]
  },
  {
   "cell_type": "code",
   "execution_count": 13,
   "metadata": {},
   "outputs": [
    {
     "data": {
      "text/plain": [
       "count    395.000000\n",
       "mean       2.521519\n",
       "std        1.088201\n",
       "min        0.000000\n",
       "25%        2.000000\n",
       "50%        2.000000\n",
       "75%        3.000000\n",
       "max        4.000000\n",
       "Name: Fedu, dtype: float64"
      ]
     },
     "execution_count": 13,
     "metadata": {},
     "output_type": "execute_result"
    }
   ],
   "source": [
    "# Descrição estatística da coluna 'Fedu':\n",
    "# RESULTADOS: \n",
    "# A média é de 2.521519\n",
    "# O desvio padrão é de 1.088201\n",
    "# (ausência de nulos)\n",
    "# O tipo da coluna é float64\n",
    "\n",
    "df['Fedu'].describe()"
   ]
  },
  {
   "cell_type": "code",
   "execution_count": 14,
   "metadata": {},
   "outputs": [
    {
     "data": {
      "text/plain": [
       "count       395\n",
       "unique        5\n",
       "top       other\n",
       "freq        141\n",
       "Name: Mjob, dtype: object"
      ]
     },
     "execution_count": 14,
     "metadata": {},
     "output_type": "execute_result"
    }
   ],
   "source": [
    "# Descrição estatística da coluna 'Mjob':\n",
    "# RESULTADOS: \n",
    "# A maioria das mães trabalham com outros\n",
    "# (ausência de nulos)\n",
    "# O tipo da coluna é object\n",
    "\n",
    "df['Mjob'].describe()"
   ]
  },
  {
   "cell_type": "code",
   "execution_count": 15,
   "metadata": {},
   "outputs": [
    {
     "data": {
      "text/plain": [
       "count       395\n",
       "unique        5\n",
       "top       other\n",
       "freq        217\n",
       "Name: Fjob, dtype: object"
      ]
     },
     "execution_count": 15,
     "metadata": {},
     "output_type": "execute_result"
    }
   ],
   "source": [
    "# Descrição estatística da coluna 'Fjob':\n",
    "# RESULTADOS: \n",
    "# A maioria dos pais trabalham com outros\n",
    "# (ausência de nulos)\n",
    "# O tipo da coluna é object\n",
    "\n",
    "df['Fjob'].describe()"
   ]
  },
  {
   "cell_type": "code",
   "execution_count": 16,
   "metadata": {},
   "outputs": [
    {
     "data": {
      "text/plain": [
       "count        395\n",
       "unique         4\n",
       "top       course\n",
       "freq         145\n",
       "Name: reason, dtype: object"
      ]
     },
     "execution_count": 16,
     "metadata": {},
     "output_type": "execute_result"
    }
   ],
   "source": [
    "# Descrição estatística da coluna 'reason':\n",
    "# RESULTADOS: \n",
    "# A maioria das reasons é course\n",
    "# (ausência de nulos)\n",
    "# O tipo da coluna é object\n",
    "\n",
    "df['reason'].describe()"
   ]
  },
  {
   "cell_type": "code",
   "execution_count": 17,
   "metadata": {},
   "outputs": [
    {
     "data": {
      "text/plain": [
       "count        395\n",
       "unique         3\n",
       "top       mother\n",
       "freq         273\n",
       "Name: guardian, dtype: object"
      ]
     },
     "execution_count": 17,
     "metadata": {},
     "output_type": "execute_result"
    }
   ],
   "source": [
    "# Descrição estatística da coluna 'guardian':\n",
    "# RESULTADOS: \n",
    "# A maioria dos alunos têm a mãe como tutora\n",
    "# (ausência de nulos)\n",
    "# O tipo da coluna é object\n",
    "\n",
    "df['guardian'].describe()"
   ]
  },
  {
   "cell_type": "code",
   "execution_count": 18,
   "metadata": {},
   "outputs": [
    {
     "data": {
      "text/plain": [
       "count    395.000000\n",
       "mean       1.448101\n",
       "std        0.697505\n",
       "min        1.000000\n",
       "25%        1.000000\n",
       "50%        1.000000\n",
       "75%        2.000000\n",
       "max        4.000000\n",
       "Name: traveltime, dtype: float64"
      ]
     },
     "execution_count": 18,
     "metadata": {},
     "output_type": "execute_result"
    }
   ],
   "source": [
    "# Descrição estatística da coluna 'traveltime':\n",
    "# RESULTADOS: \n",
    "# A média é de 1.448101\n",
    "# O desvio padrão é de 0.697505\n",
    "# (ausência de nulos)\n",
    "# O tipo da coluna é float64\n",
    "\n",
    "df['traveltime'].describe()"
   ]
  },
  {
   "cell_type": "code",
   "execution_count": 19,
   "metadata": {},
   "outputs": [
    {
     "data": {
      "text/plain": [
       "count    395.000000\n",
       "mean       2.035443\n",
       "std        0.839240\n",
       "min        1.000000\n",
       "25%        1.000000\n",
       "50%        2.000000\n",
       "75%        2.000000\n",
       "max        4.000000\n",
       "Name: studytime, dtype: float64"
      ]
     },
     "execution_count": 19,
     "metadata": {},
     "output_type": "execute_result"
    }
   ],
   "source": [
    "# Descrição estatística da coluna 'studytime':\n",
    "# RESULTADOS: \n",
    "# A média é de 2.035443\n",
    "# O desvio padrão é de 0.839240\n",
    "# (ausência de nulos)\n",
    "# O tipo da coluna é float64\n",
    "\n",
    "df['studytime'].describe()"
   ]
  },
  {
   "cell_type": "code",
   "execution_count": 20,
   "metadata": {},
   "outputs": [
    {
     "data": {
      "text/plain": [
       "count    395.000000\n",
       "mean       0.334177\n",
       "std        0.743651\n",
       "min        0.000000\n",
       "25%        0.000000\n",
       "50%        0.000000\n",
       "75%        0.000000\n",
       "max        3.000000\n",
       "Name: failures, dtype: float64"
      ]
     },
     "execution_count": 20,
     "metadata": {},
     "output_type": "execute_result"
    }
   ],
   "source": [
    "# Descrição estatística da coluna 'failures':\n",
    "# RESULTADOS: \n",
    "# A média é de 0.334177\n",
    "# O desvio padrão é de 0.743651\n",
    "# (ausência de nulos)\n",
    "# O tipo da coluna é float64\n",
    "\n",
    "df['failures'].describe()"
   ]
  },
  {
   "cell_type": "code",
   "execution_count": 21,
   "metadata": {},
   "outputs": [
    {
     "data": {
      "text/plain": [
       "count     395\n",
       "unique      2\n",
       "top        no\n",
       "freq      344\n",
       "Name: schoolsup, dtype: object"
      ]
     },
     "execution_count": 21,
     "metadata": {},
     "output_type": "execute_result"
    }
   ],
   "source": [
    "# Descrição estatística da coluna 'schoolsup':\n",
    "# RESULTADOS: \n",
    "# A maioria dos alunos não tem suporte educacional extra\n",
    "# (ausência de nulos)\n",
    "# O tipo da coluna é object\n",
    "\n",
    "df['schoolsup'].describe()"
   ]
  },
  {
   "cell_type": "code",
   "execution_count": 22,
   "metadata": {},
   "outputs": [
    {
     "data": {
      "text/plain": [
       "count     395\n",
       "unique      2\n",
       "top       yes\n",
       "freq      242\n",
       "Name: famsup, dtype: object"
      ]
     },
     "execution_count": 22,
     "metadata": {},
     "output_type": "execute_result"
    }
   ],
   "source": [
    "# Descrição estatística da coluna 'famsup':\n",
    "# RESULTADOS: \n",
    "# A maioria dos alunos não tem apoio educacional à família\n",
    "# (ausência de nulos)\n",
    "# O tipo da coluna é object\n",
    "\n",
    "\n",
    "df['famsup'].describe()"
   ]
  },
  {
   "cell_type": "code",
   "execution_count": 23,
   "metadata": {},
   "outputs": [
    {
     "data": {
      "text/plain": [
       "count     395\n",
       "unique      2\n",
       "top        no\n",
       "freq      214\n",
       "Name: paid, dtype: object"
      ]
     },
     "execution_count": 23,
     "metadata": {},
     "output_type": "execute_result"
    }
   ],
   "source": [
    "# Descrição estatística da coluna 'paid':\n",
    "# RESULTADOS: \n",
    "# A maioria dos alunos não tem aulas extras pagas dentro da disciplina\n",
    "# (ausência de nulos)\n",
    "# O tipo da coluna é object\n",
    "\n",
    "df['paid'].describe()"
   ]
  },
  {
   "cell_type": "code",
   "execution_count": null,
   "metadata": {},
   "outputs": [
    {
     "data": {
      "text/plain": [
       "count     395\n",
       "unique      2\n",
       "top       yes\n",
       "freq      201\n",
       "Name: activities, dtype: object"
      ]
     },
     "execution_count": 24,
     "metadata": {},
     "output_type": "execute_result"
    }
   ],
   "source": [
    "# Descrição estatística da coluna 'activities':\n",
    "# RESULTADOS: \n",
    "# A maioria dos alunos tem atividades extracurriculares\n",
    "# (ausência de nulos)\n",
    "# O tipo da coluna é object\n",
    "\n",
    "df['activities'].describe()"
   ]
  },
  {
   "cell_type": "code",
   "execution_count": null,
   "metadata": {},
   "outputs": [
    {
     "data": {
      "text/plain": [
       "count     395\n",
       "unique      2\n",
       "top       yes\n",
       "freq      314\n",
       "Name: nursery, dtype: object"
      ]
     },
     "execution_count": 25,
     "metadata": {},
     "output_type": "execute_result"
    }
   ],
   "source": [
    "# Descrição estatística da coluna 'nursery':\n",
    "# RESULTADOS: \n",
    "# A maioria dos alunos frequentou a creche\n",
    "# (ausência de nulos)\n",
    "# O tipo da coluna é object\n",
    "\n",
    "df['nursery'].describe()"
   ]
  },
  {
   "cell_type": "code",
   "execution_count": null,
   "metadata": {},
   "outputs": [
    {
     "data": {
      "text/plain": [
       "count     395\n",
       "unique      2\n",
       "top       yes\n",
       "freq      375\n",
       "Name: higher, dtype: object"
      ]
     },
     "execution_count": 26,
     "metadata": {},
     "output_type": "execute_result"
    }
   ],
   "source": [
    "# Descrição estatística da coluna 'higher':\n",
    "# RESULTADOS: \n",
    "# A maioria dos alunos deseja cursar o ensino superior\n",
    "# (ausência de nulos)\n",
    "# O tipo da coluna é object\n",
    "\n",
    "df['higher'].describe()"
   ]
  },
  {
   "cell_type": "code",
   "execution_count": null,
   "metadata": {},
   "outputs": [
    {
     "data": {
      "text/plain": [
       "count     395\n",
       "unique      2\n",
       "top       yes\n",
       "freq      329\n",
       "Name: internet, dtype: object"
      ]
     },
     "execution_count": 27,
     "metadata": {},
     "output_type": "execute_result"
    }
   ],
   "source": [
    "# Descrição estatística da coluna 'internet':\n",
    "# RESULTADOS: \n",
    "# A maioria dos alunos tem acesso à internet em casa\n",
    "# (ausência de nulos)\n",
    "# O tipo da coluna é object\n",
    "\n",
    "df['internet'].describe()"
   ]
  },
  {
   "cell_type": "code",
   "execution_count": null,
   "metadata": {},
   "outputs": [
    {
     "data": {
      "text/plain": [
       "count     395\n",
       "unique      2\n",
       "top        no\n",
       "freq      263\n",
       "Name: romantic, dtype: object"
      ]
     },
     "execution_count": 28,
     "metadata": {},
     "output_type": "execute_result"
    }
   ],
   "source": [
    "# Descrição estatística da coluna 'romantic':\n",
    "# RESULTADOS: \n",
    "# A maioria dos alunos não estão envolvidos em um relacionamento romântico\n",
    "# (ausência de nulos)\n",
    "# O tipo da coluna é object\n",
    "\n",
    "df['romantic'].describe()"
   ]
  },
  {
   "cell_type": "code",
   "execution_count": null,
   "metadata": {},
   "outputs": [
    {
     "data": {
      "text/plain": [
       "count    395.000000\n",
       "mean       3.944304\n",
       "std        0.896659\n",
       "min        1.000000\n",
       "25%        4.000000\n",
       "50%        4.000000\n",
       "75%        5.000000\n",
       "max        5.000000\n",
       "Name: famrel, dtype: float64"
      ]
     },
     "execution_count": 29,
     "metadata": {},
     "output_type": "execute_result"
    }
   ],
   "source": [
    "# Descrição estatística da coluna 'famrel':\n",
    "# RESULTADOS: \n",
    "# A média é de 3.944304\n",
    "# O desvio padrão é de 0.896659\n",
    "# (ausência de nulos)\n",
    "# O tipo da coluna é float64\n",
    "\n",
    "df['famrel'].describe()"
   ]
  },
  {
   "cell_type": "code",
   "execution_count": null,
   "metadata": {},
   "outputs": [
    {
     "data": {
      "text/plain": [
       "count    395.000000\n",
       "mean       3.235443\n",
       "std        0.998862\n",
       "min        1.000000\n",
       "25%        3.000000\n",
       "50%        3.000000\n",
       "75%        4.000000\n",
       "max        5.000000\n",
       "Name: freetime, dtype: float64"
      ]
     },
     "execution_count": 30,
     "metadata": {},
     "output_type": "execute_result"
    }
   ],
   "source": [
    "# Descrição estatística da coluna 'goout':\n",
    "# RESULTADOS: \n",
    "# A média é de 3.235443\n",
    "# O desvio padrão é de 0.998862\n",
    "# (ausência de nulos)\n",
    "# O tipo da coluna é float64\n",
    "\n",
    "df['freetime'].describe()"
   ]
  },
  {
   "cell_type": "code",
   "execution_count": null,
   "metadata": {},
   "outputs": [
    {
     "data": {
      "text/plain": [
       "count    395.000000\n",
       "mean       3.108861\n",
       "std        1.113278\n",
       "min        1.000000\n",
       "25%        2.000000\n",
       "50%        3.000000\n",
       "75%        4.000000\n",
       "max        5.000000\n",
       "Name: goout, dtype: float64"
      ]
     },
     "execution_count": 31,
     "metadata": {},
     "output_type": "execute_result"
    }
   ],
   "source": [
    "# Descrição estatística da coluna 'goout':\n",
    "# RESULTADOS: \n",
    "# A média é de 3.108861\n",
    "# O desvio padrão é de 1.113278\n",
    "# (ausência de nulos)\n",
    "# O tipo da coluna é float64\n",
    "\n",
    "df['goout'].describe()"
   ]
  },
  {
   "cell_type": "code",
   "execution_count": null,
   "metadata": {},
   "outputs": [
    {
     "data": {
      "text/plain": [
       "count    395.000000\n",
       "mean       1.481013\n",
       "std        0.890741\n",
       "min        1.000000\n",
       "25%        1.000000\n",
       "50%        1.000000\n",
       "75%        2.000000\n",
       "max        5.000000\n",
       "Name: Dalc, dtype: float64"
      ]
     },
     "execution_count": 32,
     "metadata": {},
     "output_type": "execute_result"
    }
   ],
   "source": [
    "# Descrição estatística da coluna 'Dalc':\n",
    "# RESULTADOS: \n",
    "# A média é de 1.481013\n",
    "# O desvio padrão é de 0.890741\n",
    "# (ausência de nulos)\n",
    "# O tipo da coluna é float64\n",
    "\n",
    "df['Dalc'].describe()"
   ]
  },
  {
   "cell_type": "code",
   "execution_count": null,
   "metadata": {},
   "outputs": [
    {
     "data": {
      "text/plain": [
       "count    395.000000\n",
       "mean       2.291139\n",
       "std        1.287897\n",
       "min        1.000000\n",
       "25%        1.000000\n",
       "50%        2.000000\n",
       "75%        3.000000\n",
       "max        5.000000\n",
       "Name: Walc, dtype: float64"
      ]
     },
     "execution_count": 33,
     "metadata": {},
     "output_type": "execute_result"
    }
   ],
   "source": [
    "# Descrição estatística da coluna 'Walc':\n",
    "# RESULTADOS: \n",
    "# A média é de 2.291139\n",
    "# O desvio padrão é de 1.287897\n",
    "# (ausência de nulos)\n",
    "# O tipo da coluna é float64\n",
    "\n",
    "df['Walc'].describe()"
   ]
  },
  {
   "cell_type": "code",
   "execution_count": null,
   "metadata": {},
   "outputs": [
    {
     "data": {
      "text/plain": [
       "count    395.000000\n",
       "mean       3.554430\n",
       "std        1.390303\n",
       "min        1.000000\n",
       "25%        3.000000\n",
       "50%        4.000000\n",
       "75%        5.000000\n",
       "max        5.000000\n",
       "Name: health, dtype: float64"
      ]
     },
     "execution_count": 34,
     "metadata": {},
     "output_type": "execute_result"
    }
   ],
   "source": [
    "# Descrição estatística da coluna 'health':\n",
    "# RESULTADOS: \n",
    "# A média é de 3.554430\n",
    "# O desvio padrão é de 1.390303\n",
    "# (ausência de nulos)\n",
    "# O tipo da coluna é float64\n",
    "\n",
    "df['health'].describe()"
   ]
  },
  {
   "cell_type": "code",
   "execution_count": null,
   "metadata": {},
   "outputs": [
    {
     "data": {
      "text/plain": [
       "count    395.000000\n",
       "mean       5.708861\n",
       "std        8.003096\n",
       "min        0.000000\n",
       "25%        0.000000\n",
       "50%        4.000000\n",
       "75%        8.000000\n",
       "max       75.000000\n",
       "Name: absences, dtype: float64"
      ]
     },
     "execution_count": 35,
     "metadata": {},
     "output_type": "execute_result"
    }
   ],
   "source": [
    "# Descrição estatística da coluna 'absences':\n",
    "# RESULTADOS: \n",
    "# A média é de 5.708861\n",
    "# O desvio padrão é de 8.003096\n",
    "# (ausência de nulos)\n",
    "# O tipo da coluna é float64\n",
    "\n",
    "df['absences'].describe()"
   ]
  },
  {
   "cell_type": "code",
   "execution_count": null,
   "metadata": {},
   "outputs": [
    {
     "data": {
      "text/plain": [
       "count    395.000000\n",
       "mean      10.908861\n",
       "std        3.319195\n",
       "min        3.000000\n",
       "25%        8.000000\n",
       "50%       11.000000\n",
       "75%       13.000000\n",
       "max       19.000000\n",
       "Name: G1, dtype: float64"
      ]
     },
     "execution_count": 36,
     "metadata": {},
     "output_type": "execute_result"
    }
   ],
   "source": [
    "# Descrição estatística da coluna 'G1':\n",
    "# RESULTADOS: \n",
    "# A média da nota final é de 10.908861\n",
    "# O desvio padrão é de 3.319195\n",
    "# As notas variam entre 3.0 e 19.0\n",
    "# Todos os alunos informaram sobre sua nota no 1 periodo (ausência de nulos)\n",
    "# O tipo da coluna é float64\n",
    "\n",
    "df['G1'].describe()"
   ]
  },
  {
   "cell_type": "code",
   "execution_count": null,
   "metadata": {},
   "outputs": [
    {
     "data": {
      "text/plain": [
       "count    395.000000\n",
       "mean      10.713924\n",
       "std        3.761505\n",
       "min        0.000000\n",
       "25%        9.000000\n",
       "50%       11.000000\n",
       "75%       13.000000\n",
       "max       19.000000\n",
       "Name: G2, dtype: float64"
      ]
     },
     "execution_count": 37,
     "metadata": {},
     "output_type": "execute_result"
    }
   ],
   "source": [
    "# Descrição estatística da coluna 'G2':\n",
    "# RESULTADOS: \n",
    "# A média da nota final é de 10.713924\n",
    "# O desvio padrão é de 3.761505\n",
    "# As notas variam entre 0.0 e 19.0\n",
    "# Todos os alunos informaram sobre sua nota no 2 periodo (ausência de nulos)\n",
    "# O tipo da coluna é float64\n",
    "\n",
    "df['G2'].describe()"
   ]
  },
  {
   "cell_type": "code",
   "execution_count": null,
   "metadata": {},
   "outputs": [
    {
     "data": {
      "text/plain": [
       "count    395.000000\n",
       "mean      10.415190\n",
       "std        4.581443\n",
       "min        0.000000\n",
       "25%        8.000000\n",
       "50%       11.000000\n",
       "75%       14.000000\n",
       "max       20.000000\n",
       "Name: G3, dtype: float64"
      ]
     },
     "execution_count": 38,
     "metadata": {},
     "output_type": "execute_result"
    }
   ],
   "source": [
    "# Descrição estatística da coluna 'G3':\n",
    "# RESULTADOS: \n",
    "# A média da nota final é de 10.415190\n",
    "# O desvio padrão é de 4.581443\n",
    "# As notas variam entre 0.0 e 20.0\n",
    "# Todos os alunos informaram sobre sua nota final (ausência de nulos)\n",
    "# O tipo da coluna é float64\n",
    "\n",
    "df['G3'].describe()"
   ]
  },
  {
   "cell_type": "code",
   "execution_count": null,
   "metadata": {},
   "outputs": [
    {
     "data": {
      "text/plain": [
       "<bound method DataFrame.drop_duplicates of     school sex  age address famsize Pstatus  Medu  Fedu      Mjob      Fjob  \\\n",
       "0       GP   F   18       U     GT3       A     4     4   at_home   teacher   \n",
       "1       GP   F   17       U     GT3       T     1     1   at_home     other   \n",
       "2       GP   F   15       U     LE3       T     1     1   at_home     other   \n",
       "3       GP   F   15       U     GT3       T     4     2    health  services   \n",
       "4       GP   F   16       U     GT3       T     3     3     other     other   \n",
       "5       GP   M   16       U     LE3       T     4     3  services     other   \n",
       "6       GP   M   16       U     LE3       T     2     2     other     other   \n",
       "7       GP   F   17       U     GT3       A     4     4     other   teacher   \n",
       "8       GP   M   15       U     LE3       A     3     2  services     other   \n",
       "9       GP   M   15       U     GT3       T     3     4     other     other   \n",
       "10      GP   F   15       U     GT3       T     4     4   teacher    health   \n",
       "11      GP   F   15       U     GT3       T     2     1  services     other   \n",
       "12      GP   M   15       U     LE3       T     4     4    health  services   \n",
       "13      GP   M   15       U     GT3       T     4     3   teacher     other   \n",
       "14      GP   M   15       U     GT3       A     2     2     other     other   \n",
       "15      GP   F   16       U     GT3       T     4     4    health     other   \n",
       "16      GP   F   16       U     GT3       T     4     4  services  services   \n",
       "17      GP   F   16       U     GT3       T     3     3     other     other   \n",
       "18      GP   M   17       U     GT3       T     3     2  services  services   \n",
       "19      GP   M   16       U     LE3       T     4     3    health     other   \n",
       "20      GP   M   15       U     GT3       T     4     3   teacher     other   \n",
       "21      GP   M   15       U     GT3       T     4     4    health    health   \n",
       "22      GP   M   16       U     LE3       T     4     2   teacher     other   \n",
       "23      GP   M   16       U     LE3       T     2     2     other     other   \n",
       "24      GP   F   15       R     GT3       T     2     4  services    health   \n",
       "25      GP   F   16       U     GT3       T     2     2  services  services   \n",
       "26      GP   M   15       U     GT3       T     2     2     other     other   \n",
       "27      GP   M   15       U     GT3       T     4     2    health  services   \n",
       "28      GP   M   16       U     LE3       A     3     4  services     other   \n",
       "29      GP   M   16       U     GT3       T     4     4   teacher   teacher   \n",
       "..     ...  ..  ...     ...     ...     ...   ...   ...       ...       ...   \n",
       "365     MS   M   18       R     GT3       T     1     3   at_home     other   \n",
       "366     MS   M   18       U     LE3       T     4     4   teacher  services   \n",
       "367     MS   F   17       R     GT3       T     1     1     other  services   \n",
       "368     MS   F   18       U     GT3       T     2     3   at_home  services   \n",
       "369     MS   F   18       R     GT3       T     4     4     other   teacher   \n",
       "370     MS   F   19       U     LE3       T     3     2  services  services   \n",
       "371     MS   M   18       R     LE3       T     1     2   at_home  services   \n",
       "372     MS   F   17       U     GT3       T     2     2     other   at_home   \n",
       "373     MS   F   17       R     GT3       T     1     2     other     other   \n",
       "374     MS   F   18       R     LE3       T     4     4     other     other   \n",
       "375     MS   F   18       R     GT3       T     1     1     other     other   \n",
       "376     MS   F   20       U     GT3       T     4     2    health     other   \n",
       "377     MS   F   18       R     LE3       T     4     4   teacher  services   \n",
       "378     MS   F   18       U     GT3       T     3     3     other     other   \n",
       "379     MS   F   17       R     GT3       T     3     1   at_home     other   \n",
       "380     MS   M   18       U     GT3       T     4     4   teacher   teacher   \n",
       "381     MS   M   18       R     GT3       T     2     1     other     other   \n",
       "382     MS   M   17       U     GT3       T     2     3     other  services   \n",
       "383     MS   M   19       R     GT3       T     1     1     other  services   \n",
       "384     MS   M   18       R     GT3       T     4     2     other     other   \n",
       "385     MS   F   18       R     GT3       T     2     2   at_home     other   \n",
       "386     MS   F   18       R     GT3       T     4     4   teacher   at_home   \n",
       "387     MS   F   19       R     GT3       T     2     3  services     other   \n",
       "388     MS   F   18       U     LE3       T     3     1   teacher  services   \n",
       "389     MS   F   18       U     GT3       T     1     1     other     other   \n",
       "390     MS   M   20       U     LE3       A     2     2  services  services   \n",
       "391     MS   M   17       U     LE3       T     3     1  services  services   \n",
       "392     MS   M   21       R     GT3       T     1     1     other     other   \n",
       "393     MS   M   18       R     LE3       T     3     2  services     other   \n",
       "394     MS   M   19       U     LE3       T     1     1     other   at_home   \n",
       "\n",
       "     ... famrel freetime  goout  Dalc  Walc health absences  G1  G2  G3  \n",
       "0    ...      4        3      4     1     1      3        6   5   6   6  \n",
       "1    ...      5        3      3     1     1      3        4   5   5   6  \n",
       "2    ...      4        3      2     2     3      3       10   7   8  10  \n",
       "3    ...      3        2      2     1     1      5        2  15  14  15  \n",
       "4    ...      4        3      2     1     2      5        4   6  10  10  \n",
       "5    ...      5        4      2     1     2      5       10  15  15  15  \n",
       "6    ...      4        4      4     1     1      3        0  12  12  11  \n",
       "7    ...      4        1      4     1     1      1        6   6   5   6  \n",
       "8    ...      4        2      2     1     1      1        0  16  18  19  \n",
       "9    ...      5        5      1     1     1      5        0  14  15  15  \n",
       "10   ...      3        3      3     1     2      2        0  10   8   9  \n",
       "11   ...      5        2      2     1     1      4        4  10  12  12  \n",
       "12   ...      4        3      3     1     3      5        2  14  14  14  \n",
       "13   ...      5        4      3     1     2      3        2  10  10  11  \n",
       "14   ...      4        5      2     1     1      3        0  14  16  16  \n",
       "15   ...      4        4      4     1     2      2        4  14  14  14  \n",
       "16   ...      3        2      3     1     2      2        6  13  14  14  \n",
       "17   ...      5        3      2     1     1      4        4   8  10  10  \n",
       "18   ...      5        5      5     2     4      5       16   6   5   5  \n",
       "19   ...      3        1      3     1     3      5        4   8  10  10  \n",
       "20   ...      4        4      1     1     1      1        0  13  14  15  \n",
       "21   ...      5        4      2     1     1      5        0  12  15  15  \n",
       "22   ...      4        5      1     1     3      5        2  15  15  16  \n",
       "23   ...      5        4      4     2     4      5        0  13  13  12  \n",
       "24   ...      4        3      2     1     1      5        2  10   9   8  \n",
       "25   ...      1        2      2     1     3      5       14   6   9   8  \n",
       "26   ...      4        2      2     1     2      5        2  12  12  11  \n",
       "27   ...      2        2      4     2     4      1        4  15  16  15  \n",
       "28   ...      5        3      3     1     1      5        4  11  11  11  \n",
       "29   ...      4        4      5     5     5      5       16  10  12  11  \n",
       "..   ...    ...      ...    ...   ...   ...    ...      ...  ..  ..  ..  \n",
       "365  ...      3        3      4     2     4      3        4  10  10  10  \n",
       "366  ...      4        2      2     2     2      5        0  13  13  13  \n",
       "367  ...      5        2      1     1     2      1        0   7   6   0  \n",
       "368  ...      5        2      3     1     2      4        0  11  10  10  \n",
       "369  ...      3        2      2     4     2      5       10  14  12  11  \n",
       "370  ...      3        2      2     1     1      3        4   7   7   9  \n",
       "371  ...      4        3      3     2     3      3        3  14  12  12  \n",
       "372  ...      3        4      3     1     1      3        8  13  11  11  \n",
       "373  ...      3        5      5     1     3      1       14   6   5   5  \n",
       "374  ...      5        4      4     1     1      1        0  19  18  19  \n",
       "375  ...      4        3      2     1     2      4        2   8   8  10  \n",
       "376  ...      5        4      3     1     1      3        4  15  14  15  \n",
       "377  ...      5        4      3     3     4      2        4   8   9  10  \n",
       "378  ...      4        1      3     1     2      1        0  15  15  15  \n",
       "379  ...      4        5      4     2     3      1       17  10  10  10  \n",
       "380  ...      3        2      4     1     4      2        4  15  14  14  \n",
       "381  ...      4        4      3     1     3      5        5   7   6   7  \n",
       "382  ...      4        4      3     1     1      3        2  11  11  10  \n",
       "383  ...      4        3      2     1     3      5        0   6   5   0  \n",
       "384  ...      5        4      3     4     3      3       14   6   5   5  \n",
       "385  ...      5        3      3     1     3      4        2  10   9  10  \n",
       "386  ...      4        4      3     2     2      5        7   6   5   6  \n",
       "387  ...      5        4      2     1     2      5        0   7   5   0  \n",
       "388  ...      4        3      4     1     1      1        0   7   9   8  \n",
       "389  ...      1        1      1     1     1      5        0   6   5   0  \n",
       "390  ...      5        5      4     4     5      4       11   9   9   9  \n",
       "391  ...      2        4      5     3     4      2        3  14  16  16  \n",
       "392  ...      5        5      3     3     3      3        3  10   8   7  \n",
       "393  ...      4        4      1     3     4      5        0  11  12  10  \n",
       "394  ...      3        2      3     3     3      5        5   8   9   9  \n",
       "\n",
       "[395 rows x 33 columns]>"
      ]
     },
     "execution_count": 39,
     "metadata": {},
     "output_type": "execute_result"
    }
   ],
   "source": [
    "# Não há duplicatas nas tuplas do DataFrame\n",
    "\n",
    "df.drop_duplicates"
   ]
  },
  {
   "cell_type": "code",
   "execution_count": null,
   "metadata": {},
   "outputs": [
    {
     "data": {
      "text/html": [
       "<div>\n",
       "<style scoped>\n",
       "    .dataframe tbody tr th:only-of-type {\n",
       "        vertical-align: middle;\n",
       "    }\n",
       "\n",
       "    .dataframe tbody tr th {\n",
       "        vertical-align: top;\n",
       "    }\n",
       "\n",
       "    .dataframe thead th {\n",
       "        text-align: right;\n",
       "    }\n",
       "</style>\n",
       "<table border=\"1\" class=\"dataframe\">\n",
       "  <thead>\n",
       "    <tr style=\"text-align: right;\">\n",
       "      <th></th>\n",
       "      <th>age</th>\n",
       "      <th>Medu</th>\n",
       "      <th>Fedu</th>\n",
       "      <th>traveltime</th>\n",
       "      <th>studytime</th>\n",
       "      <th>failures</th>\n",
       "      <th>famrel</th>\n",
       "      <th>freetime</th>\n",
       "      <th>goout</th>\n",
       "      <th>Dalc</th>\n",
       "      <th>Walc</th>\n",
       "      <th>health</th>\n",
       "      <th>absences</th>\n",
       "      <th>G1</th>\n",
       "      <th>G2</th>\n",
       "      <th>G3</th>\n",
       "    </tr>\n",
       "  </thead>\n",
       "  <tbody>\n",
       "    <tr>\n",
       "      <th>count</th>\n",
       "      <td>395.000000</td>\n",
       "      <td>395.000000</td>\n",
       "      <td>395.000000</td>\n",
       "      <td>395.000000</td>\n",
       "      <td>395.000000</td>\n",
       "      <td>395.000000</td>\n",
       "      <td>395.000000</td>\n",
       "      <td>395.000000</td>\n",
       "      <td>395.000000</td>\n",
       "      <td>395.000000</td>\n",
       "      <td>395.000000</td>\n",
       "      <td>395.000000</td>\n",
       "      <td>395.000000</td>\n",
       "      <td>395.000000</td>\n",
       "      <td>395.000000</td>\n",
       "      <td>395.000000</td>\n",
       "    </tr>\n",
       "    <tr>\n",
       "      <th>mean</th>\n",
       "      <td>16.696203</td>\n",
       "      <td>2.749367</td>\n",
       "      <td>2.521519</td>\n",
       "      <td>1.448101</td>\n",
       "      <td>2.035443</td>\n",
       "      <td>0.334177</td>\n",
       "      <td>3.944304</td>\n",
       "      <td>3.235443</td>\n",
       "      <td>3.108861</td>\n",
       "      <td>1.481013</td>\n",
       "      <td>2.291139</td>\n",
       "      <td>3.554430</td>\n",
       "      <td>5.708861</td>\n",
       "      <td>10.908861</td>\n",
       "      <td>10.713924</td>\n",
       "      <td>10.415190</td>\n",
       "    </tr>\n",
       "    <tr>\n",
       "      <th>std</th>\n",
       "      <td>1.276043</td>\n",
       "      <td>1.094735</td>\n",
       "      <td>1.088201</td>\n",
       "      <td>0.697505</td>\n",
       "      <td>0.839240</td>\n",
       "      <td>0.743651</td>\n",
       "      <td>0.896659</td>\n",
       "      <td>0.998862</td>\n",
       "      <td>1.113278</td>\n",
       "      <td>0.890741</td>\n",
       "      <td>1.287897</td>\n",
       "      <td>1.390303</td>\n",
       "      <td>8.003096</td>\n",
       "      <td>3.319195</td>\n",
       "      <td>3.761505</td>\n",
       "      <td>4.581443</td>\n",
       "    </tr>\n",
       "    <tr>\n",
       "      <th>min</th>\n",
       "      <td>15.000000</td>\n",
       "      <td>0.000000</td>\n",
       "      <td>0.000000</td>\n",
       "      <td>1.000000</td>\n",
       "      <td>1.000000</td>\n",
       "      <td>0.000000</td>\n",
       "      <td>1.000000</td>\n",
       "      <td>1.000000</td>\n",
       "      <td>1.000000</td>\n",
       "      <td>1.000000</td>\n",
       "      <td>1.000000</td>\n",
       "      <td>1.000000</td>\n",
       "      <td>0.000000</td>\n",
       "      <td>3.000000</td>\n",
       "      <td>0.000000</td>\n",
       "      <td>0.000000</td>\n",
       "    </tr>\n",
       "    <tr>\n",
       "      <th>25%</th>\n",
       "      <td>16.000000</td>\n",
       "      <td>2.000000</td>\n",
       "      <td>2.000000</td>\n",
       "      <td>1.000000</td>\n",
       "      <td>1.000000</td>\n",
       "      <td>0.000000</td>\n",
       "      <td>4.000000</td>\n",
       "      <td>3.000000</td>\n",
       "      <td>2.000000</td>\n",
       "      <td>1.000000</td>\n",
       "      <td>1.000000</td>\n",
       "      <td>3.000000</td>\n",
       "      <td>0.000000</td>\n",
       "      <td>8.000000</td>\n",
       "      <td>9.000000</td>\n",
       "      <td>8.000000</td>\n",
       "    </tr>\n",
       "    <tr>\n",
       "      <th>50%</th>\n",
       "      <td>17.000000</td>\n",
       "      <td>3.000000</td>\n",
       "      <td>2.000000</td>\n",
       "      <td>1.000000</td>\n",
       "      <td>2.000000</td>\n",
       "      <td>0.000000</td>\n",
       "      <td>4.000000</td>\n",
       "      <td>3.000000</td>\n",
       "      <td>3.000000</td>\n",
       "      <td>1.000000</td>\n",
       "      <td>2.000000</td>\n",
       "      <td>4.000000</td>\n",
       "      <td>4.000000</td>\n",
       "      <td>11.000000</td>\n",
       "      <td>11.000000</td>\n",
       "      <td>11.000000</td>\n",
       "    </tr>\n",
       "    <tr>\n",
       "      <th>75%</th>\n",
       "      <td>18.000000</td>\n",
       "      <td>4.000000</td>\n",
       "      <td>3.000000</td>\n",
       "      <td>2.000000</td>\n",
       "      <td>2.000000</td>\n",
       "      <td>0.000000</td>\n",
       "      <td>5.000000</td>\n",
       "      <td>4.000000</td>\n",
       "      <td>4.000000</td>\n",
       "      <td>2.000000</td>\n",
       "      <td>3.000000</td>\n",
       "      <td>5.000000</td>\n",
       "      <td>8.000000</td>\n",
       "      <td>13.000000</td>\n",
       "      <td>13.000000</td>\n",
       "      <td>14.000000</td>\n",
       "    </tr>\n",
       "    <tr>\n",
       "      <th>max</th>\n",
       "      <td>22.000000</td>\n",
       "      <td>4.000000</td>\n",
       "      <td>4.000000</td>\n",
       "      <td>4.000000</td>\n",
       "      <td>4.000000</td>\n",
       "      <td>3.000000</td>\n",
       "      <td>5.000000</td>\n",
       "      <td>5.000000</td>\n",
       "      <td>5.000000</td>\n",
       "      <td>5.000000</td>\n",
       "      <td>5.000000</td>\n",
       "      <td>5.000000</td>\n",
       "      <td>75.000000</td>\n",
       "      <td>19.000000</td>\n",
       "      <td>19.000000</td>\n",
       "      <td>20.000000</td>\n",
       "    </tr>\n",
       "  </tbody>\n",
       "</table>\n",
       "</div>"
      ],
      "text/plain": [
       "              age        Medu        Fedu  traveltime   studytime    failures  \\\n",
       "count  395.000000  395.000000  395.000000  395.000000  395.000000  395.000000   \n",
       "mean    16.696203    2.749367    2.521519    1.448101    2.035443    0.334177   \n",
       "std      1.276043    1.094735    1.088201    0.697505    0.839240    0.743651   \n",
       "min     15.000000    0.000000    0.000000    1.000000    1.000000    0.000000   \n",
       "25%     16.000000    2.000000    2.000000    1.000000    1.000000    0.000000   \n",
       "50%     17.000000    3.000000    2.000000    1.000000    2.000000    0.000000   \n",
       "75%     18.000000    4.000000    3.000000    2.000000    2.000000    0.000000   \n",
       "max     22.000000    4.000000    4.000000    4.000000    4.000000    3.000000   \n",
       "\n",
       "           famrel    freetime       goout        Dalc        Walc      health  \\\n",
       "count  395.000000  395.000000  395.000000  395.000000  395.000000  395.000000   \n",
       "mean     3.944304    3.235443    3.108861    1.481013    2.291139    3.554430   \n",
       "std      0.896659    0.998862    1.113278    0.890741    1.287897    1.390303   \n",
       "min      1.000000    1.000000    1.000000    1.000000    1.000000    1.000000   \n",
       "25%      4.000000    3.000000    2.000000    1.000000    1.000000    3.000000   \n",
       "50%      4.000000    3.000000    3.000000    1.000000    2.000000    4.000000   \n",
       "75%      5.000000    4.000000    4.000000    2.000000    3.000000    5.000000   \n",
       "max      5.000000    5.000000    5.000000    5.000000    5.000000    5.000000   \n",
       "\n",
       "         absences          G1          G2          G3  \n",
       "count  395.000000  395.000000  395.000000  395.000000  \n",
       "mean     5.708861   10.908861   10.713924   10.415190  \n",
       "std      8.003096    3.319195    3.761505    4.581443  \n",
       "min      0.000000    3.000000    0.000000    0.000000  \n",
       "25%      0.000000    8.000000    9.000000    8.000000  \n",
       "50%      4.000000   11.000000   11.000000   11.000000  \n",
       "75%      8.000000   13.000000   13.000000   14.000000  \n",
       "max     75.000000   19.000000   19.000000   20.000000  "
      ]
     },
     "execution_count": 40,
     "metadata": {},
     "output_type": "execute_result"
    }
   ],
   "source": [
    "#Descrição estatística do DataFrame\n",
    "\n",
    "df.describe()"
   ]
  },
  {
   "cell_type": "code",
   "execution_count": null,
   "metadata": {},
   "outputs": [
    {
     "data": {
      "text/plain": [
       "<Figure size 1500x2000 with 15 Axes>"
      ]
     },
     "metadata": {},
     "output_type": "display_data"
    }
   ],
   "source": [
    "# Distribuição dos dados: histogramas\n",
    "\n",
    "import matplotlib.pyplot as plt\n",
    "\n",
    "\n",
    "fig, axes = plt.subplots( nrows=5, ncols=3, figsize=(15,20) )\n",
    "plt.subplots_adjust( wspace=0.20, hspace=0.50, top=0.97 )\n",
    "plt.suptitle(\"Students Dataset\", fontsize=15)\n",
    "\n",
    "axes[0,0].hist(df.age)\n",
    "axes[0,0].set_xlabel(\"age\")\n",
    "axes[0,0].set_ylabel(\"Number of Students\")\n",
    "axes[0,1].hist(df.Medu)\n",
    "axes[0,1].set_xlabel(\"medu\")\n",
    "axes[0,1].set_ylabel(\"Number of Students\")\n",
    "axes[0,2].hist(df.Fedu)\n",
    "axes[0,2].set_xlabel(\"fedu\")\n",
    "axes[0,2].set_ylabel(\"Number of Students\")\n",
    "axes[1,0].hist(df.traveltime)\n",
    "axes[1,0].set_xlabel(\"traveltime\")\n",
    "axes[1,0].set_ylabel(\"Number of Students\")\n",
    "axes[1,1].hist(df.studytime)\n",
    "axes[1,1].set_xlabel(\"studytime\")\n",
    "axes[1,1].set_ylabel(\"Number of Students\")\n",
    "axes[1,2].hist(df.failures)\n",
    "axes[1,2].set_xlabel(\"failures\")\n",
    "axes[1,2].set_ylabel(\"Number of Students\")\n",
    "axes[2,0].hist(df.famrel)\n",
    "axes[2,0].set_xlabel(\"famrel\")\n",
    "axes[2,0].set_ylabel(\"Number of Students\")\n",
    "axes[2,1].hist(df.freetime)\n",
    "axes[2,1].set_xlabel(\"freetime\")\n",
    "axes[2,1].set_ylabel(\"Number of Students\")\n",
    "axes[2,2].hist(df.goout)\n",
    "axes[2,2].set_xlabel(\"goout\")\n",
    "axes[2,2].set_ylabel(\"Number of Students\")\n",
    "axes[3,0].hist(df.Dalc)\n",
    "axes[3,0].set_xlabel(\"dalc\")\n",
    "axes[3,0].set_ylabel(\"Number of Students\")\n",
    "axes[3,1].hist(df.Walc)\n",
    "axes[3,1].set_xlabel(\"walc\")\n",
    "axes[3,1].set_ylabel(\"Number of Students\")\n",
    "axes[3,2].hist(df.health)\n",
    "axes[3,2].set_xlabel(\"health\")\n",
    "axes[3,2].set_ylabel(\"Number of Students\")\n",
    "axes[4,0].hist(df.absences)\n",
    "axes[4,0].set_xlabel(\"absences\")\n",
    "axes[4,0].set_ylabel(\"Number of Students\")\n",
    "axes[4,1].hist(df.G1)\n",
    "axes[4,1].set_xlabel(\"g1\")\n",
    "axes[4,1].set_ylabel(\"Number of Students\")\n",
    "axes[4,2].hist(df.G2)\n",
    "axes[4,2].set_xlabel(\"g2\")\n",
    "axes[4,2].set_ylabel(\"Number of Students\")\n",
    "\n",
    "plt.show()"
   ]
  },
  {
   "cell_type": "code",
   "execution_count": null,
   "metadata": {},
   "outputs": [
    {
     "name": "stderr",
     "output_type": "stream",
     "text": [
      "C:\\Users\\Ana Carolina Lôbo\\Anaconda3a\\lib\\site-packages\\sklearn\\preprocessing\\data.py:645: DataConversionWarning: Data with input dtype int64 were all converted to float64 by StandardScaler.\n",
      "  return self.partial_fit(X, y)\n",
      "C:\\Users\\Ana Carolina Lôbo\\Anaconda3a\\lib\\site-packages\\sklearn\\base.py:464: DataConversionWarning: Data with input dtype int64 were all converted to float64 by StandardScaler.\n",
      "  return self.fit(X, **fit_params).transform(X)\n",
      "C:\\Users\\Ana Carolina Lôbo\\Anaconda3a\\lib\\site-packages\\ipykernel_launcher.py:26: FutureWarning: \n",
      "Passing list-likes to .loc or [] with any missing label will raise\n",
      "KeyError in the future, you can use .reindex() as an alternative.\n",
      "\n",
      "See the documentation here:\n",
      "https://pandas.pydata.org/pandas-docs/stable/indexing.html#deprecate-loc-reindex-listlike\n"
     ]
    },
    {
     "data": {
      "text/html": [
       "<div>\n",
       "<style scoped>\n",
       "    .dataframe tbody tr th:only-of-type {\n",
       "        vertical-align: middle;\n",
       "    }\n",
       "\n",
       "    .dataframe tbody tr th {\n",
       "        vertical-align: top;\n",
       "    }\n",
       "\n",
       "    .dataframe thead th {\n",
       "        text-align: right;\n",
       "    }\n",
       "</style>\n",
       "<table border=\"1\" class=\"dataframe\">\n",
       "  <thead>\n",
       "    <tr style=\"text-align: right;\">\n",
       "      <th></th>\n",
       "      <th>school</th>\n",
       "      <th>sex</th>\n",
       "      <th>age</th>\n",
       "      <th>address</th>\n",
       "      <th>famsize</th>\n",
       "      <th>Pstatus</th>\n",
       "      <th>Medu</th>\n",
       "      <th>Fedu</th>\n",
       "      <th>Mjob</th>\n",
       "      <th>Fjob</th>\n",
       "      <th>...</th>\n",
       "      <th>famrel</th>\n",
       "      <th>freetime</th>\n",
       "      <th>goout</th>\n",
       "      <th>Dalc</th>\n",
       "      <th>Walc</th>\n",
       "      <th>health</th>\n",
       "      <th>absences</th>\n",
       "      <th>G1</th>\n",
       "      <th>G2</th>\n",
       "      <th>G3</th>\n",
       "    </tr>\n",
       "  </thead>\n",
       "  <tbody>\n",
       "    <tr>\n",
       "      <th>0</th>\n",
       "      <td>GP</td>\n",
       "      <td>F</td>\n",
       "      <td>1.023046</td>\n",
       "      <td>U</td>\n",
       "      <td>GT3</td>\n",
       "      <td>A</td>\n",
       "      <td>4</td>\n",
       "      <td>4</td>\n",
       "      <td>at_home</td>\n",
       "      <td>teacher</td>\n",
       "      <td>...</td>\n",
       "      <td>0.062194</td>\n",
       "      <td>-0.236010</td>\n",
       "      <td>0.801479</td>\n",
       "      <td>1</td>\n",
       "      <td>1</td>\n",
       "      <td>-0.399289</td>\n",
       "      <td>0.036424</td>\n",
       "      <td>5</td>\n",
       "      <td>6</td>\n",
       "      <td>-1.254791</td>\n",
       "    </tr>\n",
       "    <tr>\n",
       "      <th>1</th>\n",
       "      <td>GP</td>\n",
       "      <td>F</td>\n",
       "      <td>0.238380</td>\n",
       "      <td>U</td>\n",
       "      <td>GT3</td>\n",
       "      <td>T</td>\n",
       "      <td>1</td>\n",
       "      <td>1</td>\n",
       "      <td>at_home</td>\n",
       "      <td>other</td>\n",
       "      <td>...</td>\n",
       "      <td>1.178860</td>\n",
       "      <td>-0.236010</td>\n",
       "      <td>-0.097908</td>\n",
       "      <td>1</td>\n",
       "      <td>1</td>\n",
       "      <td>-0.399289</td>\n",
       "      <td>-0.213796</td>\n",
       "      <td>5</td>\n",
       "      <td>5</td>\n",
       "      <td>-1.520979</td>\n",
       "    </tr>\n",
       "    <tr>\n",
       "      <th>2</th>\n",
       "      <td>GP</td>\n",
       "      <td>F</td>\n",
       "      <td>-1.330954</td>\n",
       "      <td>U</td>\n",
       "      <td>LE3</td>\n",
       "      <td>T</td>\n",
       "      <td>1</td>\n",
       "      <td>1</td>\n",
       "      <td>at_home</td>\n",
       "      <td>other</td>\n",
       "      <td>...</td>\n",
       "      <td>0.062194</td>\n",
       "      <td>-0.236010</td>\n",
       "      <td>-0.997295</td>\n",
       "      <td>2</td>\n",
       "      <td>3</td>\n",
       "      <td>-0.399289</td>\n",
       "      <td>0.536865</td>\n",
       "      <td>7</td>\n",
       "      <td>8</td>\n",
       "      <td>-0.722415</td>\n",
       "    </tr>\n",
       "    <tr>\n",
       "      <th>3</th>\n",
       "      <td>GP</td>\n",
       "      <td>F</td>\n",
       "      <td>-1.330954</td>\n",
       "      <td>U</td>\n",
       "      <td>GT3</td>\n",
       "      <td>T</td>\n",
       "      <td>4</td>\n",
       "      <td>2</td>\n",
       "      <td>health</td>\n",
       "      <td>services</td>\n",
       "      <td>...</td>\n",
       "      <td>-1.054472</td>\n",
       "      <td>-1.238419</td>\n",
       "      <td>-0.997295</td>\n",
       "      <td>1</td>\n",
       "      <td>1</td>\n",
       "      <td>1.041070</td>\n",
       "      <td>-0.464016</td>\n",
       "      <td>15</td>\n",
       "      <td>14</td>\n",
       "      <td>0.874715</td>\n",
       "    </tr>\n",
       "    <tr>\n",
       "      <th>4</th>\n",
       "      <td>GP</td>\n",
       "      <td>F</td>\n",
       "      <td>-0.546287</td>\n",
       "      <td>U</td>\n",
       "      <td>GT3</td>\n",
       "      <td>T</td>\n",
       "      <td>3</td>\n",
       "      <td>3</td>\n",
       "      <td>other</td>\n",
       "      <td>other</td>\n",
       "      <td>...</td>\n",
       "      <td>0.062194</td>\n",
       "      <td>-0.236010</td>\n",
       "      <td>-0.997295</td>\n",
       "      <td>1</td>\n",
       "      <td>2</td>\n",
       "      <td>1.041070</td>\n",
       "      <td>-0.213796</td>\n",
       "      <td>6</td>\n",
       "      <td>10</td>\n",
       "      <td>-0.190038</td>\n",
       "    </tr>\n",
       "  </tbody>\n",
       "</table>\n",
       "<p>5 rows × 33 columns</p>\n",
       "</div>"
      ],
      "text/plain": [
       "  school sex       age address famsize Pstatus  Medu  Fedu     Mjob      Fjob  \\\n",
       "0     GP   F  1.023046       U     GT3       A     4     4  at_home   teacher   \n",
       "1     GP   F  0.238380       U     GT3       T     1     1  at_home     other   \n",
       "2     GP   F -1.330954       U     LE3       T     1     1  at_home     other   \n",
       "3     GP   F -1.330954       U     GT3       T     4     2   health  services   \n",
       "4     GP   F -0.546287       U     GT3       T     3     3    other     other   \n",
       "\n",
       "   ...    famrel  freetime     goout  Dalc  Walc    health  absences  G1  G2  \\\n",
       "0  ...  0.062194 -0.236010  0.801479     1     1 -0.399289  0.036424   5   6   \n",
       "1  ...  1.178860 -0.236010 -0.097908     1     1 -0.399289 -0.213796   5   5   \n",
       "2  ...  0.062194 -0.236010 -0.997295     2     3 -0.399289  0.536865   7   8   \n",
       "3  ... -1.054472 -1.238419 -0.997295     1     1  1.041070 -0.464016  15  14   \n",
       "4  ...  0.062194 -0.236010 -0.997295     1     2  1.041070 -0.213796   6  10   \n",
       "\n",
       "         G3  \n",
       "0 -1.254791  \n",
       "1 -1.520979  \n",
       "2 -0.722415  \n",
       "3  0.874715  \n",
       "4 -0.190038  \n",
       "\n",
       "[5 rows x 33 columns]"
      ]
     },
     "execution_count": 42,
     "metadata": {},
     "output_type": "execute_result"
    }
   ],
   "source": [
    "# The variables:\n",
    "# “age” \n",
    "# “medu” \n",
    "# “fedu” \n",
    "# “traveltime” \n",
    "# “studytime” \n",
    "# “failures” \n",
    "# “famrel” \n",
    "# “freetime” \n",
    "# “goout” \n",
    "# “dalc” \n",
    "# “walc” \n",
    "# “health” \n",
    "# “absences” \n",
    "# “g1” \n",
    "# “g2” \n",
    "# are interger variables, which means they can be scaled\n",
    "\n",
    "# import StandardScaler\n",
    "from sklearn.preprocessing import StandardScaler\n",
    "\n",
    "scaler = StandardScaler()\n",
    "data =df\n",
    "\n",
    "# scale the variables\n",
    "data [[\"age\", \"medu\", \"fedu\", \"traveltime\", \"studytime\", \"failures\", \"famrel\", \"freetime\", \"goout\", \"dalc\", \"walc\", \"health\", \"absences\", \"g1\", \"g2\"]]= scaler.fit_transform(data[[\"age\", \"Medu\", \"Fedu\", \"traveltime\", \"studytime\", \"failures\", \"famrel\", \"freetime\", \"goout\", \"Dalc\", \"Walc\", \"health\", \"absences\", \"G1\", \"G2\"]])\n",
    "\n",
    "# visualize DataFrame \"head\" to confirm it was correctly generated\n",
    "data.head()"
   ]
  },
  {
   "cell_type": "code",
   "execution_count": null,
   "metadata": {},
   "outputs": [],
   "source": [
    "# import LabelEncoder\n",
    "from sklearn import preprocessing\n",
    "\n",
    "\n",
    "# creating labelEncoder\n",
    "le = preprocessing.LabelEncoder()\n",
    "\n",
    "\n",
    "# converting string labels into numbers\n",
    "data['schoolsup']=le.fit_transform(data['schoolsup'])\n",
    "data['famsup']=le.fit_transform(data['famsup'])\n",
    "data['paid']=le.fit_transform(data['paid'])\n",
    "data['activities']=le.fit_transform(data['activities'])\n",
    "data['nursery']=le.fit_transform(data['nursery'])\n",
    "data['higher']=le.fit_transform(data['higher'])\n",
    "data['internet']=le.fit_transform(data['internet'])\n",
    "data['romantic']=le.fit_transform(data['romantic'])\n",
    "\n",
    " \n",
    "# then dummy code variables that have two levels, but are not numeric\n",
    "data['school']=le.fit_transform(data['school'])\n",
    "data['sex']=le.fit_transform(data['sex'])\n",
    "data['address']=le.fit_transform(data['address'])\n",
    "data['famsize']=le.fit_transform(data['famsize'])\n",
    "data['Pstatus']=le.fit_transform(data['Pstatus'])\n"
   ]
  },
  {
   "cell_type": "code",
   "execution_count": null,
   "metadata": {},
   "outputs": [],
   "source": [
    "#Histogramas\n",
    "import matplotlib.pyplot as plt\n",
    "\n",
    "\n",
    "fig, axes = plt.subplots( nrows=5, ncols=3, figsize=(15,25) )\n",
    "plt.subplots_adjust( wspace=0.20, hspace=0.50, top=0.97 )\n",
    "plt.suptitle(\"Students Dataset\", fontsize=20)\n",
    "\n",
    "\n",
    "fig = plt.figure()\n",
    "colunas=['school', 'sex', 'age','address','famsize','pstatus','medu','fedu','traveltime','studytime','DAD_other','DAD_services', 'DAD_teacher',\n",
    "        'course', 'home', 'other_reason', 'reputation', 'father', 'mother', 'other_guardian','romantic', 'famrel', 'freetime', 'goout', 'dalc', \n",
    "        'walc', 'health', 'absences', 'g1', 'g2', 'failures', 'schoolsup', 'famsup', 'paid', 'activities', 'nursery', 'higher', 'internet']\n",
    "\n",
    "axes[0,0].hist(data.school)\n",
    "axes[0,0].set_xlabel(\"school: GP->0 e MS->1\")\n",
    "axes[0,0].set_ylabel(\"Number of Students\")\n",
    "axes[0,1].hist(data.sex)\n",
    "axes[0,1].set_xlabel(\"sex: F->0 e M->1\")\n",
    "axes[0,1].set_ylabel(\"Number of Students\")\n",
    "axes[0,2].hist(data.address)\n",
    "axes[0,2].set_xlabel(\"address: U->1 e R->0\")\n",
    "axes[0,2].set_ylabel(\"Number of Students\")\n",
    "axes[1,0].hist(data.famsize)\n",
    "axes[1,0].set_xlabel(\"famsize: GT3->0 e LE->1\")\n",
    "axes[1,0].set_ylabel(\"Number of Students\")\n",
    "axes[1,1].hist(data.Pstatus)\n",
    "axes[1,1].set_xlabel(\"pstatus: A->0 e T->1\")\n",
    "axes[1,1].set_ylabel(\"Number of Students\")\n",
    "axes[1,2].hist(data.schoolsup)\n",
    "axes[1,2].set_xlabel(\"schoolsup: No->0 e Yes->1\")\n",
    "axes[1,2].set_ylabel(\"Number of Students\")\n",
    "axes[2,0].hist(data.famsup)\n",
    "axes[2,0].set_xlabel(\"famsup: No->0 e Yes->1\")\n",
    "axes[2,0].set_ylabel(\"Number of Students\")\n",
    "axes[2,1].hist(data.paid)\n",
    "axes[2,1].set_xlabel(\"paid: No->0 e Yes->1\")\n",
    "axes[2,1].set_ylabel(\"Number of Students\")\n",
    "axes[2,2].hist(data.activities)\n",
    "axes[2,2].set_xlabel(\"activities: No->0 e Yes->1\")\n",
    "axes[2,2].set_ylabel(\"Number of Students\")\n",
    "axes[3,0].hist(data.nursery)\n",
    "axes[3,0].set_xlabel(\"nursery: No->0 e Yes->1\")\n",
    "axes[3,0].set_ylabel(\"Number of Students\")\n",
    "axes[3,1].hist(data.higher)\n",
    "axes[3,1].set_xlabel(\"higher: No->0 e Yes->1\")\n",
    "axes[3,1].set_ylabel(\"Number of Students\")\n",
    "axes[3,2].hist(data.internet)\n",
    "axes[3,2].set_xlabel(\"internet: No->0 e Yes->1\")\n",
    "axes[3,2].set_ylabel(\"Number of Students\")\n",
    "axes[4,0].hist(data.internet)\n",
    "axes[4,0].set_xlabel(\"internet: No->0 e Yes->1\")\n",
    "axes[4,0].set_ylabel(\"Number of Students\")\n",
    "\n",
    "plt.show()"
   ]
  },
  {
   "cell_type": "code",
   "execution_count": null,
   "metadata": {},
   "outputs": [],
   "source": [
    "#Correlação de Pearson\n",
    "\n",
    "import seaborn as sns\n",
    "corrData = df.corr()\n",
    "plt.subplots(figsize=(20,15))\n",
    "sns.heatmap(corrData, annot=True)\n",
    "plt.show()\n"
   ]
  },
  {
   "cell_type": "code",
   "execution_count": null,
   "metadata": {},
   "outputs": [],
   "source": []
  }
 ],
 "metadata": {
  "kernelspec": {
   "display_name": "Python 3",
   "language": "python",
   "name": "python3"
  },
  "language_info": {
   "codemirror_mode": {
    "name": "ipython",
    "version": 3
   },
   "file_extension": ".py",
   "mimetype": "text/x-python",
   "name": "python",
   "nbconvert_exporter": "python",
   "pygments_lexer": "ipython3",
   "version": "3.7.3"
  }
 },
 "nbformat": 4,
 "nbformat_minor": 2
}
